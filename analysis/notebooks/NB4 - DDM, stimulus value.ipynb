{
 "cells": [
  {
   "cell_type": "markdown",
   "metadata": {
    "id": "P_si4Ag7w8pL"
   },
   "source": [
    "# Introduction\n",
    "\n",
    "Takes exploratory data and fits variations of the DDM.\n",
    "\n",
    "DDM: average-signal\n",
    "\n",
    "Details: Take every signal that the subject saw in a trial, and average their values. Feed that into a DDM as a time-invariant signal."
   ]
  },
  {
   "cell_type": "markdown",
   "metadata": {},
   "source": [
    "## Preamble"
   ]
  },
  {
   "cell_type": "code",
   "execution_count": 1,
   "metadata": {
    "colab": {
     "base_uri": "https://localhost:8080/"
    },
    "id": "H25E_vlnuwiK",
    "outputId": "78fdf1bf-2017-40b8-8b89-d5accd094091"
   },
   "outputs": [],
   "source": [
    "# Install (package verification, PyDDM, timer, parallelization)\n",
    "#!pip3 install paranoid-scientist\n",
    "#!pip3 install pyddm\n",
    "#!pip3 install pytictoc  \n",
    "#!pip3 install pathos  \n",
    "#!pip3 install pandas\n",
    "#!pip3 install numpy\n",
    "#!pip3 install matplotlib\n",
    "\n",
    "# Python 3.9.13"
   ]
  },
  {
   "cell_type": "code",
   "execution_count": 2,
   "metadata": {},
   "outputs": [
    {
     "name": "stderr",
     "output_type": "stream",
     "text": [
      "Warning: model_gui function unavailable.  To use model_gui, please import pyddm.plot before matplotlib.pyplot.\n"
     ]
    }
   ],
   "source": [
    "# Libraries\n",
    "import os\n",
    "from pytictoc import TicToc\n",
    "import csv\n",
    "import pandas as pd\n",
    "import numpy as np\n",
    "import matplotlib.pyplot as plt\n",
    "import multiprocessing\n",
    "import pyddm as ddm\n",
    "from pyddm import Model, Sample, FitResult, Fittable, Fitted, ICPoint, set_N_cpus\n",
    "from pyddm.models import NoiseConstant, BoundConstant, OverlayChain, OverlayNonDecision, OverlayUniformMixture, LossRobustBIC\n",
    "from pyddm.functions import fit_adjust_model, display_model\n",
    "import pyddm.plot"
   ]
  },
  {
   "cell_type": "code",
   "execution_count": 3,
   "metadata": {},
   "outputs": [],
   "source": [
    "# Directories\n",
    "datadir = \"/Users/ella/Desktop/2023-ddm-sampling-weights/data/processed_data/exploratory.csv\"\n",
    "tempdir = \"/Users/ella/Desktop/2023-ddm-sampling-weights/analysis/outputs/temp/\""
   ]
  },
  {
   "cell_type": "code",
   "execution_count": 4,
   "metadata": {},
   "outputs": [
    {
     "data": {
      "text/plain": [
       "5"
      ]
     },
     "execution_count": 4,
     "metadata": {},
     "output_type": "execute_result"
    }
   ],
   "source": [
    "# Parallel settings\n",
    "ncpu = multiprocessing.cpu_count()-1 # always save one core\n",
    "ncpu"
   ]
  },
  {
   "cell_type": "code",
   "execution_count": 5,
   "metadata": {},
   "outputs": [],
   "source": [
    "# Do you want a disgusting amount of feedback from model fitting or nah?\n",
    "verbose_fitting = False"
   ]
  },
  {
   "cell_type": "markdown",
   "metadata": {},
   "source": [
    "## Import and Clean Raw Data\n",
    "\n",
    "rawdata_in: odd trials used for in-sample data for model fitting.\n",
    "\n",
    "rawdata_out: even trials used for out-sample data for model predictions."
   ]
  },
  {
   "cell_type": "code",
   "execution_count": 6,
   "metadata": {
    "colab": {
     "base_uri": "https://localhost:8080/",
     "height": 868
    },
    "id": "BKiZpgFfwhOD",
    "outputId": "8e10f102-7e4c-4f98-8591-17b1094b84c0",
    "scrolled": true
   },
   "outputs": [
    {
     "name": "stdout",
     "output_type": "stream",
     "text": [
      "   subject  trial\n",
      "0        1      1\n",
      "       subject  trial\n",
      "60659       25    299\n",
      "   subject  trial\n",
      "3        1      2\n",
      "       subject  trial\n",
      "60669       25    300\n"
     ]
    }
   ],
   "source": [
    "# Import data\n",
    "rawdata = pd.read_csv(datadir)\n",
    "rawdata = rawdata.rename(columns={\"subj\":\"subject\", \"rxn_time\":\"rt\"})\n",
    "\n",
    "# Turn choice into numeric (1=Y, 0=N)\n",
    "mapping = {\"YES\":1, \"NO\":0}\n",
    "rawdata = rawdata.replace({\"choice\":mapping})\n",
    "\n",
    "# Drop no-response trials.\n",
    "rawdata = rawdata[~np.isnan(rawdata['choice'])]\n",
    "\n",
    "# Convert rt from ms to s\n",
    "rawdata.rt = rawdata.rt/1000\n",
    "\n",
    "# Odd trials -> in-sample. Even trials -> out-sample.\n",
    "ind = rawdata.trial % 2 != 0\n",
    "rawdata_in = pd.DataFrame(data=rawdata[ind])\n",
    "rawdata_out = pd.DataFrame(data=rawdata[~ind])\n",
    "print(rawdata_in[[\"subject\",\"trial\"]].head(1))\n",
    "print(rawdata_in[[\"subject\",\"trial\"]].tail(1))\n",
    "print(rawdata_out[[\"subject\",\"trial\"]].head(1))\n",
    "print(rawdata_out[[\"subject\",\"trial\"]].tail(1))"
   ]
  },
  {
   "cell_type": "markdown",
   "metadata": {},
   "source": [
    "---\n",
    "# Stimulus-Value DDM: drift rate depends linearly on the stimulus value"
   ]
  },
  {
   "cell_type": "markdown",
   "metadata": {},
   "source": [
    "## Transform Data"
   ]
  },
  {
   "cell_type": "code",
   "execution_count": 19,
   "metadata": {},
   "outputs": [
    {
     "data": {
      "text/html": [
       "<div>\n",
       "<style scoped>\n",
       "    .dataframe tbody tr th:only-of-type {\n",
       "        vertical-align: middle;\n",
       "    }\n",
       "\n",
       "    .dataframe tbody tr th {\n",
       "        vertical-align: top;\n",
       "    }\n",
       "\n",
       "    .dataframe thead th {\n",
       "        text-align: right;\n",
       "    }\n",
       "</style>\n",
       "<table border=\"1\" class=\"dataframe\">\n",
       "  <thead>\n",
       "    <tr style=\"text-align: right;\">\n",
       "      <th></th>\n",
       "      <th>subject</th>\n",
       "      <th>trial</th>\n",
       "      <th>choice</th>\n",
       "      <th>rt</th>\n",
       "      <th>machine</th>\n",
       "      <th>StimuliSeen</th>\n",
       "      <th>stim</th>\n",
       "      <th>S0</th>\n",
       "      <th>S1</th>\n",
       "      <th>S2</th>\n",
       "      <th>Selse</th>\n",
       "      <th>stimnum</th>\n",
       "      <th>stim_list</th>\n",
       "    </tr>\n",
       "  </thead>\n",
       "  <tbody>\n",
       "    <tr>\n",
       "      <th>0</th>\n",
       "      <td>1</td>\n",
       "      <td>1</td>\n",
       "      <td>1.0</td>\n",
       "      <td>0.9739</td>\n",
       "      <td>1</td>\n",
       "      <td>3</td>\n",
       "      <td>2.875</td>\n",
       "      <td>1.125</td>\n",
       "      <td>1.875</td>\n",
       "      <td>2.875</td>\n",
       "      <td>NaN</td>\n",
       "      <td>1</td>\n",
       "      <td>(2.875, 1.875, 1.125)</td>\n",
       "    </tr>\n",
       "    <tr>\n",
       "      <th>1</th>\n",
       "      <td>1</td>\n",
       "      <td>3</td>\n",
       "      <td>0.0</td>\n",
       "      <td>1.3940</td>\n",
       "      <td>-2</td>\n",
       "      <td>4</td>\n",
       "      <td>0.875</td>\n",
       "      <td>-2.375</td>\n",
       "      <td>-2.875</td>\n",
       "      <td>-2.875</td>\n",
       "      <td>0.875</td>\n",
       "      <td>1</td>\n",
       "      <td>(0.875, -2.875, -2.875, -2.375)</td>\n",
       "    </tr>\n",
       "    <tr>\n",
       "      <th>2</th>\n",
       "      <td>1</td>\n",
       "      <td>5</td>\n",
       "      <td>0.0</td>\n",
       "      <td>4.0545</td>\n",
       "      <td>-1</td>\n",
       "      <td>13</td>\n",
       "      <td>0.375</td>\n",
       "      <td>-2.625</td>\n",
       "      <td>-2.875</td>\n",
       "      <td>-0.875</td>\n",
       "      <td>0.375</td>\n",
       "      <td>1</td>\n",
       "      <td>(0.375, 1.375, -2.875, -2.875, 0.125, -0.875, ...</td>\n",
       "    </tr>\n",
       "    <tr>\n",
       "      <th>3</th>\n",
       "      <td>1</td>\n",
       "      <td>7</td>\n",
       "      <td>0.0</td>\n",
       "      <td>1.2802</td>\n",
       "      <td>0</td>\n",
       "      <td>4</td>\n",
       "      <td>0.875</td>\n",
       "      <td>2.875</td>\n",
       "      <td>-0.625</td>\n",
       "      <td>-2.625</td>\n",
       "      <td>0.875</td>\n",
       "      <td>1</td>\n",
       "      <td>(0.875, -2.625, -0.625, 2.875)</td>\n",
       "    </tr>\n",
       "    <tr>\n",
       "      <th>4</th>\n",
       "      <td>1</td>\n",
       "      <td>9</td>\n",
       "      <td>1.0</td>\n",
       "      <td>5.8468</td>\n",
       "      <td>2</td>\n",
       "      <td>19</td>\n",
       "      <td>0.625</td>\n",
       "      <td>2.875</td>\n",
       "      <td>0.375</td>\n",
       "      <td>1.375</td>\n",
       "      <td>2.125</td>\n",
       "      <td>1</td>\n",
       "      <td>(0.625, 2.875, 1.625, 0.375, 2.875, 1.375, 2.8...</td>\n",
       "    </tr>\n",
       "    <tr>\n",
       "      <th>...</th>\n",
       "      <td>...</td>\n",
       "      <td>...</td>\n",
       "      <td>...</td>\n",
       "      <td>...</td>\n",
       "      <td>...</td>\n",
       "      <td>...</td>\n",
       "      <td>...</td>\n",
       "      <td>...</td>\n",
       "      <td>...</td>\n",
       "      <td>...</td>\n",
       "      <td>...</td>\n",
       "      <td>...</td>\n",
       "      <td>...</td>\n",
       "    </tr>\n",
       "    <tr>\n",
       "      <th>3740</th>\n",
       "      <td>25</td>\n",
       "      <td>291</td>\n",
       "      <td>0.0</td>\n",
       "      <td>2.2235</td>\n",
       "      <td>-1</td>\n",
       "      <td>7</td>\n",
       "      <td>2.875</td>\n",
       "      <td>-2.875</td>\n",
       "      <td>-1.625</td>\n",
       "      <td>-2.125</td>\n",
       "      <td>-2.875</td>\n",
       "      <td>1</td>\n",
       "      <td>(2.875, -1.375, -0.125, -2.875, -2.125, -1.625...</td>\n",
       "    </tr>\n",
       "    <tr>\n",
       "      <th>3741</th>\n",
       "      <td>25</td>\n",
       "      <td>293</td>\n",
       "      <td>0.0</td>\n",
       "      <td>1.5562</td>\n",
       "      <td>-2</td>\n",
       "      <td>5</td>\n",
       "      <td>0.625</td>\n",
       "      <td>-1.625</td>\n",
       "      <td>-2.875</td>\n",
       "      <td>-1.875</td>\n",
       "      <td>-0.125</td>\n",
       "      <td>1</td>\n",
       "      <td>(0.625, -0.125, -1.875, -2.875, -1.625)</td>\n",
       "    </tr>\n",
       "    <tr>\n",
       "      <th>3742</th>\n",
       "      <td>25</td>\n",
       "      <td>295</td>\n",
       "      <td>0.0</td>\n",
       "      <td>1.2840</td>\n",
       "      <td>0</td>\n",
       "      <td>4</td>\n",
       "      <td>0.375</td>\n",
       "      <td>0.875</td>\n",
       "      <td>-1.375</td>\n",
       "      <td>0.375</td>\n",
       "      <td>0.375</td>\n",
       "      <td>1</td>\n",
       "      <td>(0.375, 0.375, -1.375, 0.875)</td>\n",
       "    </tr>\n",
       "    <tr>\n",
       "      <th>3743</th>\n",
       "      <td>25</td>\n",
       "      <td>297</td>\n",
       "      <td>0.0</td>\n",
       "      <td>1.6909</td>\n",
       "      <td>2</td>\n",
       "      <td>5</td>\n",
       "      <td>0.125</td>\n",
       "      <td>2.625</td>\n",
       "      <td>0.625</td>\n",
       "      <td>2.875</td>\n",
       "      <td>-0.375</td>\n",
       "      <td>1</td>\n",
       "      <td>(0.125, -0.375, 2.875, 0.625, 2.625)</td>\n",
       "    </tr>\n",
       "    <tr>\n",
       "      <th>3744</th>\n",
       "      <td>25</td>\n",
       "      <td>299</td>\n",
       "      <td>0.0</td>\n",
       "      <td>1.8232</td>\n",
       "      <td>-1</td>\n",
       "      <td>6</td>\n",
       "      <td>0.125</td>\n",
       "      <td>-2.875</td>\n",
       "      <td>-0.875</td>\n",
       "      <td>-2.875</td>\n",
       "      <td>-1.875</td>\n",
       "      <td>1</td>\n",
       "      <td>(0.125, 0.875, -1.875, -2.875, -0.875, -2.875)</td>\n",
       "    </tr>\n",
       "  </tbody>\n",
       "</table>\n",
       "<p>3745 rows × 13 columns</p>\n",
       "</div>"
      ],
      "text/plain": [
       "      subject  trial  choice      rt  machine  StimuliSeen   stim     S0  \\\n",
       "0           1      1     1.0  0.9739        1            3  2.875  1.125   \n",
       "1           1      3     0.0  1.3940       -2            4  0.875 -2.375   \n",
       "2           1      5     0.0  4.0545       -1           13  0.375 -2.625   \n",
       "3           1      7     0.0  1.2802        0            4  0.875  2.875   \n",
       "4           1      9     1.0  5.8468        2           19  0.625  2.875   \n",
       "...       ...    ...     ...     ...      ...          ...    ...    ...   \n",
       "3740       25    291     0.0  2.2235       -1            7  2.875 -2.875   \n",
       "3741       25    293     0.0  1.5562       -2            5  0.625 -1.625   \n",
       "3742       25    295     0.0  1.2840        0            4  0.375  0.875   \n",
       "3743       25    297     0.0  1.6909        2            5  0.125  2.625   \n",
       "3744       25    299     0.0  1.8232       -1            6  0.125 -2.875   \n",
       "\n",
       "         S1     S2  Selse  stimnum  \\\n",
       "0     1.875  2.875    NaN        1   \n",
       "1    -2.875 -2.875  0.875        1   \n",
       "2    -2.875 -0.875  0.375        1   \n",
       "3    -0.625 -2.625  0.875        1   \n",
       "4     0.375  1.375  2.125        1   \n",
       "...     ...    ...    ...      ...   \n",
       "3740 -1.625 -2.125 -2.875        1   \n",
       "3741 -2.875 -1.875 -0.125        1   \n",
       "3742 -1.375  0.375  0.375        1   \n",
       "3743  0.625  2.875 -0.375        1   \n",
       "3744 -0.875 -2.875 -1.875        1   \n",
       "\n",
       "                                              stim_list  \n",
       "0                                 (2.875, 1.875, 1.125)  \n",
       "1                       (0.875, -2.875, -2.875, -2.375)  \n",
       "2     (0.375, 1.375, -2.875, -2.875, 0.125, -0.875, ...  \n",
       "3                        (0.875, -2.625, -0.625, 2.875)  \n",
       "4     (0.625, 2.875, 1.625, 0.375, 2.875, 1.375, 2.8...  \n",
       "...                                                 ...  \n",
       "3740  (2.875, -1.375, -0.125, -2.875, -2.125, -1.625...  \n",
       "3741            (0.625, -0.125, -1.875, -2.875, -1.625)  \n",
       "3742                      (0.375, 0.375, -1.375, 0.875)  \n",
       "3743               (0.125, -0.375, 2.875, 0.625, 2.625)  \n",
       "3744     (0.125, 0.875, -1.875, -2.875, -0.875, -2.875)  \n",
       "\n",
       "[3745 rows x 13 columns]"
      ]
     },
     "execution_count": 19,
     "metadata": {},
     "output_type": "execute_result"
    }
   ],
   "source": [
    "# Don't mess with the rawdata.\n",
    "data = pd.DataFrame(data=rawdata_in)\n",
    "\n",
    "# Transform the data from long to wide, then combine the new stim columns into one tuple.\n",
    "datawide = data\n",
    "datawide[\"stimnum\"] = datawide.groupby([\"subject\",\"trial\"]).cumcount()+1\n",
    "datalong = datawide.pivot(index=['subject','trial'], columns='stimnum', values='stim')\n",
    "stim_list = datalong.apply(list, axis=1)\n",
    "ind = 0\n",
    "for l in stim_list:\n",
    "    row = np.array(stim_list.iloc[ind], dtype=np.float32)\n",
    "    stim_list.iloc[ind] = tuple(row[~np.isnan(row)])\n",
    "    ind += 1\n",
    "data = data.groupby([\"subject\",\"trial\"], as_index=False).first()\n",
    "data[\"stim_list\"] = stim_list.values\n",
    "data"
   ]
  },
  {
   "cell_type": "markdown",
   "metadata": {},
   "source": [
    "## Fit the Stimulus-Value DDM"
   ]
  },
  {
   "cell_type": "code",
   "execution_count": 20,
   "metadata": {},
   "outputs": [],
   "source": [
    "# Create a drift subclass so drift can vary with stimulus.\n",
    "class DriftStimulusValue(ddm.Drift):\n",
    "    name = \"drift rate depends linearly on stimulus value\"\n",
    "    BINSIZE = .3 # 300 ms per bin\n",
    "    required_parameters = ['driftrate', 'driftratedelta'] # How much to scale moment-to-moment drift.\n",
    "    required_conditions = ['stim_list', 'machine'] # Should be a tuple of values which modulate the moment-to-moment drift.\n",
    "    def get_drift(self, t, conditions, **kwargs):\n",
    "        bin_number = int(t//self.BINSIZE) # Which bin are we currently in?\n",
    "        n_bins = len(conditions['stim_list']) # Total number of bins for this condition.\n",
    "        # If we are currently in a bin which exceeds the total bins, fix to the slot machine average.\n",
    "        if bin_number < n_bins:\n",
    "            signal = conditions['stim_list'][bin_number]\n",
    "        else:\n",
    "            signal = conditions['machine']\n",
    "        # Compute the moment-to-moment drift\n",
    "        return (self.driftrate + (self.driftratedelta*signal)) * signal\n",
    "\n",
    "# Define the model.\n",
    "model = Model(name=\"drift rate depends linearly on stimulus value\",\n",
    "                 drift=DriftStimulusValue(driftrate=Fittable(minval=-1, maxval=4), driftratedelta=Fittable(minval=-2, maxval=2)),\n",
    "                 noise=NoiseConstant(noise=Fittable(minval=.001, maxval=2)),\n",
    "                 bound=BoundConstant(B=1),\n",
    "                 IC=ICPoint(x0=Fittable(minval=-.99, maxval=.99)),\n",
    "                 overlay=OverlayNonDecision(nondectime=Fittable(minval=0, maxval=.1)),\n",
    "                 dx=.01, dt=.01, T_dur=12,  # dx: spatial grid for evidence space (-B to B, in dx bins), dt: time step in s. See Shin et al 2022 Fig 4 for why I set dx=dt.\n",
    "                 choice_names=(\"Yes\",\"No\"))"
   ]
  },
  {
   "cell_type": "code",
   "execution_count": 21,
   "metadata": {},
   "outputs": [],
   "source": [
    "# Only run this if specified at the start. Otherwise, just load pre-saved weights.\n",
    "print(\"DDM: drift rate is linear in stimulus value\")\n",
    "\n",
    "# Iterate through subjects.\n",
    "subnums = np.sort(data.subject.unique())\n",
    "for subnum in subnums:\n",
    "\n",
    "    # Progress tracker.\n",
    "    print(\"============================================================================\")\n",
    "    print(\"Subject \" + str(subnum))\n",
    "\n",
    "    # Subset the data.\n",
    "    subdata = data[data[\"subject\"]==subnum]\n",
    "\n",
    "    # Create a sample object from our data. Sample objects are the standard input for pyDDM fitting functions.\n",
    "    ddm_data = Sample.from_pandas_dataframe(subdata, rt_column_name=\"rt\", choice_column_name=\"choice\", choice_names=(\"Yes\",\"No\"))\n",
    "\n",
    "    # Fit the model and show it off. Keep track of how long it took to estimate the parameters.\n",
    "    clock = TicToc() # Timer\n",
    "    clock.tic()\n",
    "    set_N_cpus(ncpu) # Parallelize\n",
    "    fit_model = fit_adjust_model(sample=ddm_data, model=model,\n",
    "                                    fitting_method=\"differential_evolution\",\n",
    "                                    lossfunction=LossRobustBIC,\n",
    "                                    verbose=verbose_fitting)\n",
    "    clock.toc(\"Fitting subject \" + str(subnum) + \" took\")\n",
    "    display_model(fit_model)\n",
    "\n",
    "    # Save\n",
    "    filename = tempdir + \"fit_model_sv_\" + str(subnum) + \".txt\"\n",
    "    with open(filename, \"w\") as f:\n",
    "      f.write(repr(fit_model))"
   ]
  },
  {
   "cell_type": "markdown",
   "metadata": {},
   "source": [
    "## Extract parameter estimates and BIC"
   ]
  },
  {
   "cell_type": "code",
   "execution_count": 22,
   "metadata": {},
   "outputs": [
    {
     "ename": "FileNotFoundError",
     "evalue": "[Errno 2] No such file or directory: '/Users/ella/Desktop/2023-ddm-sampling-weights/analysis/outputs/temp/fit_model_sv_1.txt'",
     "output_type": "error",
     "traceback": [
      "\u001b[0;31m---------------------------------------------------------------------------\u001b[0m",
      "\u001b[0;31mFileNotFoundError\u001b[0m                         Traceback (most recent call last)",
      "Cell \u001b[0;32mIn[22], line 15\u001b[0m\n\u001b[1;32m     11\u001b[0m \u001b[38;5;28;01mfor\u001b[39;00m subnum \u001b[38;5;129;01min\u001b[39;00m subnums:\n\u001b[1;32m     12\u001b[0m     \n\u001b[1;32m     13\u001b[0m     \u001b[38;5;66;03m# Load\u001b[39;00m\n\u001b[1;32m     14\u001b[0m     filename \u001b[38;5;241m=\u001b[39m tempdir \u001b[38;5;241m+\u001b[39m \u001b[38;5;124m\"\u001b[39m\u001b[38;5;124mfit_model_sv_\u001b[39m\u001b[38;5;124m\"\u001b[39m \u001b[38;5;241m+\u001b[39m \u001b[38;5;28mstr\u001b[39m(subnum) \u001b[38;5;241m+\u001b[39m \u001b[38;5;124m\"\u001b[39m\u001b[38;5;124m.txt\u001b[39m\u001b[38;5;124m\"\u001b[39m\n\u001b[0;32m---> 15\u001b[0m     \u001b[38;5;28;01mwith\u001b[39;00m \u001b[38;5;28;43mopen\u001b[39;49m\u001b[43m(\u001b[49m\u001b[43mfilename\u001b[49m\u001b[43m,\u001b[49m\u001b[43m \u001b[49m\u001b[38;5;124;43m\"\u001b[39;49m\u001b[38;5;124;43mr\u001b[39;49m\u001b[38;5;124;43m\"\u001b[39;49m\u001b[43m)\u001b[49m \u001b[38;5;28;01mas\u001b[39;00m f:\n\u001b[1;32m     16\u001b[0m         model_loaded \u001b[38;5;241m=\u001b[39m \u001b[38;5;28meval\u001b[39m(f\u001b[38;5;241m.\u001b[39mread())\n\u001b[1;32m     18\u001b[0m     \u001b[38;5;66;03m# Negative Log Likelihood.\u001b[39;00m\n",
      "File \u001b[0;32m~/Library/Python/3.9/lib/python/site-packages/IPython/core/interactiveshell.py:284\u001b[0m, in \u001b[0;36m_modified_open\u001b[0;34m(file, *args, **kwargs)\u001b[0m\n\u001b[1;32m    277\u001b[0m \u001b[38;5;28;01mif\u001b[39;00m file \u001b[38;5;129;01min\u001b[39;00m {\u001b[38;5;241m0\u001b[39m, \u001b[38;5;241m1\u001b[39m, \u001b[38;5;241m2\u001b[39m}:\n\u001b[1;32m    278\u001b[0m     \u001b[38;5;28;01mraise\u001b[39;00m \u001b[38;5;167;01mValueError\u001b[39;00m(\n\u001b[1;32m    279\u001b[0m         \u001b[38;5;124mf\u001b[39m\u001b[38;5;124m\"\u001b[39m\u001b[38;5;124mIPython won\u001b[39m\u001b[38;5;124m'\u001b[39m\u001b[38;5;124mt let you open fd=\u001b[39m\u001b[38;5;132;01m{\u001b[39;00mfile\u001b[38;5;132;01m}\u001b[39;00m\u001b[38;5;124m by default \u001b[39m\u001b[38;5;124m\"\u001b[39m\n\u001b[1;32m    280\u001b[0m         \u001b[38;5;124m\"\u001b[39m\u001b[38;5;124mas it is likely to crash IPython. If you know what you are doing, \u001b[39m\u001b[38;5;124m\"\u001b[39m\n\u001b[1;32m    281\u001b[0m         \u001b[38;5;124m\"\u001b[39m\u001b[38;5;124myou can use builtins\u001b[39m\u001b[38;5;124m'\u001b[39m\u001b[38;5;124m open.\u001b[39m\u001b[38;5;124m\"\u001b[39m\n\u001b[1;32m    282\u001b[0m     )\n\u001b[0;32m--> 284\u001b[0m \u001b[38;5;28;01mreturn\u001b[39;00m \u001b[43mio_open\u001b[49m\u001b[43m(\u001b[49m\u001b[43mfile\u001b[49m\u001b[43m,\u001b[49m\u001b[43m \u001b[49m\u001b[38;5;241;43m*\u001b[39;49m\u001b[43margs\u001b[49m\u001b[43m,\u001b[49m\u001b[43m \u001b[49m\u001b[38;5;241;43m*\u001b[39;49m\u001b[38;5;241;43m*\u001b[39;49m\u001b[43mkwargs\u001b[49m\u001b[43m)\u001b[49m\n",
      "\u001b[0;31mFileNotFoundError\u001b[0m: [Errno 2] No such file or directory: '/Users/ella/Desktop/2023-ddm-sampling-weights/analysis/outputs/temp/fit_model_sv_1.txt'"
     ]
    }
   ],
   "source": [
    "# Placeholders\n",
    "model_bic = []\n",
    "model_drift = []\n",
    "model_driftdelta = []\n",
    "model_noise = []\n",
    "modelas = []\n",
    "model_ndt = []\n",
    "\n",
    "# Iterate through subjects.\n",
    "subnums = np.sort(data.subject.unique())\n",
    "for subnum in subnums:\n",
    "    \n",
    "    # Load\n",
    "    filename = tempdir + \"fit_model_sv_\" + str(subnum) + \".txt\"\n",
    "    with open(filename, \"r\") as f:\n",
    "        model_loaded = eval(f.read())\n",
    "\n",
    "    # Negative Log Likelihood.\n",
    "    model_bic.append(model_loaded.get_fit_result().value())\n",
    "    \n",
    "    # Fitted parameters.\n",
    "    model_drift.append(model_loaded.parameters()['drift']['driftrate'])\n",
    "    model_driftdelta.append(model_loaded.parameters()['drift']['driftratedelta'])\n",
    "    model_noise.append(model_loaded.parameters()['noise']['noise'])\n",
    "    model_bias.append(model_loaded.parameters()['IC']['x0'])\n",
    "    model_ndt.append(model_loaded.parameters()['overlay']['nondectime'])\n",
    "    \n",
    "d = {'bic':model_bic, \"drift\":model_drift, \"driftdelta\":model_driftdelta, \"noise\":model_noise, \"bias\":model_bias, \"ndt\":model_ndt}\n",
    "indiv_model = pd.DataFrame(data=d)\n",
    "indiv_model"
   ]
  },
  {
   "cell_type": "markdown",
   "metadata": {},
   "source": [
    "## Means of the estimates and BIC"
   ]
  },
  {
   "cell_type": "code",
   "execution_count": null,
   "metadata": {},
   "outputs": [],
   "source": [
    "summstats_model = pd.DataFrame(data={\"mean\":indiv_model.mean(), \n",
    "                                        \"se\":indiv_model.sem(),\n",
    "                                        \"ci_lower\":indiv_model.mean()-1.96*indiv_model.sem(),\n",
    "                                        \"ci_upper\":indiv_model.mean()+1.96*indiv_model.sem()}).T\n",
    "summstats_model"
   ]
  },
  {
   "cell_type": "markdown",
   "metadata": {},
   "source": [
    "## Save"
   ]
  },
  {
   "cell_type": "code",
   "execution_count": null,
   "metadata": {},
   "outputs": [],
   "source": [
    "table_model = pd.concat([indiv_model, summstats_model])\n",
    "filename = tempdir + \"table_model_sv.txt\"\n",
    "with open(filename, \"w\") as f:\n",
    "  f.write(repr(table_model))"
   ]
  }
 ],
 "metadata": {
  "colab": {
   "provenance": []
  },
  "kernelspec": {
   "display_name": "Python 3 (ipykernel)",
   "language": "python",
   "name": "python3"
  },
  "language_info": {
   "codemirror_mode": {
    "name": "ipython",
    "version": 3
   },
   "file_extension": ".py",
   "mimetype": "text/x-python",
   "name": "python",
   "nbconvert_exporter": "python",
   "pygments_lexer": "ipython3",
   "version": "3.9.6"
  }
 },
 "nbformat": 4,
 "nbformat_minor": 4
}
