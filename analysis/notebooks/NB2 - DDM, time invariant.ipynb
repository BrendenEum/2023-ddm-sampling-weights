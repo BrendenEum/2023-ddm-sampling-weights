{
 "cells": [
  {
   "cell_type": "markdown",
   "metadata": {
    "id": "P_si4Ag7w8pL"
   },
   "source": [
    "# Introduction\n",
    "\n",
    "Takes exploratory data and fits variations of the DDM.\n",
    "\n",
    "DDM: average-signal\n",
    "\n",
    "Details: Take every signal that the subject saw in a trial, and average their values. Feed that into a DDM as a time-invariant signal."
   ]
  },
  {
   "cell_type": "markdown",
   "metadata": {},
   "source": [
    "## Preamble"
   ]
  },
  {
   "cell_type": "code",
   "execution_count": 1,
   "metadata": {
    "colab": {
     "base_uri": "https://localhost:8080/"
    },
    "id": "H25E_vlnuwiK",
    "outputId": "78fdf1bf-2017-40b8-8b89-d5accd094091"
   },
   "outputs": [],
   "source": [
    "# Install (package verification, PyDDM, timer, parallelization)\n",
    "#!pip3 install paranoid-scientist\n",
    "#!pip3 install pyddm\n",
    "#!pip3 install pytictoc  \n",
    "#!pip3 install pathos  \n",
    "#!pip3 install pandas\n",
    "#!pip3 install numpy\n",
    "#!pip3 install matplotlib\n",
    "\n",
    "# Python 3.9.13"
   ]
  },
  {
   "cell_type": "code",
   "execution_count": 2,
   "metadata": {},
   "outputs": [
    {
     "name": "stderr",
     "output_type": "stream",
     "text": [
      "Warning: model_gui function unavailable.  To use model_gui, please import pyddm.plot before matplotlib.pyplot.\n"
     ]
    }
   ],
   "source": [
    "# Libraries\n",
    "import os\n",
    "from pytictoc import TicToc\n",
    "import csv\n",
    "import pandas as pd\n",
    "import numpy as np\n",
    "import matplotlib.pyplot as plt\n",
    "import multiprocessing\n",
    "import pyddm as ddm\n",
    "from pyddm import Model, Sample, FitResult, Fittable, Fitted, ICPoint, set_N_cpus\n",
    "from pyddm.models import NoiseConstant, BoundConstant, OverlayChain, OverlayNonDecision, OverlayUniformMixture, LossRobustBIC\n",
    "from pyddm.functions import fit_adjust_model, display_model\n",
    "import pyddm.plot"
   ]
  },
  {
   "cell_type": "code",
   "execution_count": 3,
   "metadata": {},
   "outputs": [],
   "source": [
    "# Directories\n",
    "datadir = \"/Users/ella/Desktop/2023-ddm-sampling-weights/data/processed_data/exploratory.csv\"\n",
    "tempdir = \"/Users/ella/Desktop/2023-ddm-sampling-weights/analysis/outputs/temp/\""
   ]
  },
  {
   "cell_type": "code",
   "execution_count": 4,
   "metadata": {},
   "outputs": [
    {
     "data": {
      "text/plain": [
       "5"
      ]
     },
     "execution_count": 4,
     "metadata": {},
     "output_type": "execute_result"
    }
   ],
   "source": [
    "# Parallel settings\n",
    "ncpu = multiprocessing.cpu_count()-1 # always save one core\n",
    "ncpu"
   ]
  },
  {
   "cell_type": "code",
   "execution_count": 5,
   "metadata": {},
   "outputs": [],
   "source": [
    "# Do you want a disgusting amount of feedback from model fitting or nah?\n",
    "verbose_fitting = False"
   ]
  },
  {
   "cell_type": "markdown",
   "metadata": {},
   "source": [
    "## Import and Clean Raw Data\n",
    "\n",
    "rawdata_in: odd trials used for in-sample data for model fitting.\n",
    "\n",
    "rawdata_out: even trials used for out-sample data for model predictions."
   ]
  },
  {
   "cell_type": "code",
   "execution_count": 6,
   "metadata": {
    "colab": {
     "base_uri": "https://localhost:8080/",
     "height": 868
    },
    "id": "BKiZpgFfwhOD",
    "outputId": "8e10f102-7e4c-4f98-8591-17b1094b84c0",
    "scrolled": true
   },
   "outputs": [
    {
     "name": "stdout",
     "output_type": "stream",
     "text": [
      "   subject  trial\n",
      "0        1      1\n",
      "       subject  trial\n",
      "60659       25    299\n",
      "   subject  trial\n",
      "3        1      2\n",
      "       subject  trial\n",
      "60669       25    300\n"
     ]
    }
   ],
   "source": [
    "# Import data\n",
    "rawdata = pd.read_csv(datadir)\n",
    "rawdata = rawdata.rename(columns={\"subj\":\"subject\", \"rxn_time\":\"rt\"})\n",
    "\n",
    "# Turn choice into numeric (1=Y, 0=N)\n",
    "mapping = {\"YES\":1, \"NO\":0}\n",
    "rawdata = rawdata.replace({\"choice\":mapping})\n",
    "\n",
    "# Drop no-response trials.\n",
    "rawdata = rawdata[~np.isnan(rawdata['choice'])]\n",
    "\n",
    "# Convert rt from ms to s\n",
    "rawdata.rt = rawdata.rt/1000\n",
    "\n",
    "# Odd trials -> in-sample. Even trials -> out-sample.\n",
    "ind = rawdata.trial % 2 != 0\n",
    "rawdata_in = pd.DataFrame(data=rawdata[ind])\n",
    "rawdata_out = pd.DataFrame(data=rawdata[~ind])\n",
    "print(rawdata_in[[\"subject\",\"trial\"]].head(1))\n",
    "print(rawdata_in[[\"subject\",\"trial\"]].tail(1))\n",
    "print(rawdata_out[[\"subject\",\"trial\"]].head(1))\n",
    "print(rawdata_out[[\"subject\",\"trial\"]].tail(1))"
   ]
  },
  {
   "cell_type": "markdown",
   "metadata": {},
   "source": [
    "---\n",
    "# Time-Invariant DDM: evidence = avg stimulus value"
   ]
  },
  {
   "cell_type": "markdown",
   "metadata": {},
   "source": [
    "## Transform data\n",
    "\n",
    "Average stimulus is rounded to the tenth decimal. This introduces noise into the fitting process, but it significantly speeds up the fitting process. Fitting is parallelized by spliting the job up by different average stimulus values. Reducing the number of unique average stimulus values allows for more efficient parallelization.\n",
    "\n",
    "I'm taking this shortcut here because I think this is a poor way to estimate the DDM anyways. Average stimulus should be correlated to the reaction time, since the average is calculated according to how many stimuli the subject saw, which depends on their reaction time."
   ]
  },
  {
   "cell_type": "code",
   "execution_count": 7,
   "metadata": {},
   "outputs": [
    {
     "name": "stdout",
     "output_type": "stream",
     "text": [
      "Data\n",
      "               subject  trial  choice      rt  machine  stim\n",
      "subject trial                                               \n",
      "1       1            1      1     1.0  0.9739        1   2.0\n",
      "        3            1      3     0.0  1.3940       -2  -1.8\n",
      "        5            1      5     0.0  4.0545       -1  -0.8\n",
      "        7            1      7     0.0  1.2802        0   0.1\n",
      "        9            1      9     1.0  5.8468        2   1.0\n",
      "        11           1     11     0.0  2.3290       -1  -0.4\n",
      "Unique Stimulus Values\n",
      "[-2.2 -2.1 -2.  -1.9 -1.8 -1.7 -1.6 -1.5 -1.4 -1.3 -1.2 -1.1 -1.  -0.9\n",
      " -0.8 -0.7 -0.6 -0.5 -0.4 -0.3 -0.2 -0.1  0.   0.1  0.2  0.3  0.4  0.5\n",
      "  0.6  0.7  0.8  0.9  1.   1.1  1.2  1.3  1.4  1.5  1.6  1.7  1.8  1.9\n",
      "  2.   2.1  2.2  2.3  2.4  2.5  2.6  2.7  2.8  2.9]\n",
      "How many unique values?\n",
      "52\n"
     ]
    },
    {
     "data": {
      "image/png": "[encoded data removed]",
      "text/plain": [
       "<Figure size 640x480 with 1 Axes>"
      ]
     },
     "metadata": {},
     "output_type": "display_data"
    }
   ],
   "source": [
    "# Don't touch the raw data.\n",
    "data = rawdata_in\n",
    "\n",
    "# Get the first entry per subject-trial combo for most variables. Get the average stimulus variable.\n",
    "data = data.groupby([\"subject\",\"trial\"]).agg({\"subject\":'first', \"trial\":\"first\", \"choice\":\"first\", \"rt\":\"first\", \"machine\":\"first\", \"stim\":\"mean\"})\n",
    "\n",
    "# Round average stimulus to tenth place.\n",
    "data.stim = np.round(data.stim, 1)\n",
    "\n",
    "# Display\n",
    "plt.hist(data[\"rt\"],bins=12)\n",
    "print(\"Data\")\n",
    "print(data.head(6))\n",
    "print(\"Unique Stimulus Values\")\n",
    "print(np.sort(data.stim.unique()))\n",
    "print(\"How many unique values?\")\n",
    "print(len(data.stim.unique()))"
   ]
  },
  {
   "cell_type": "markdown",
   "metadata": {},
   "source": [
    "## Fit the average stimulus DDM"
   ]
  },
  {
   "cell_type": "code",
   "execution_count": 8,
   "metadata": {},
   "outputs": [],
   "source": [
    "# Create a drift subclass so drift can vary with stimulus.\n",
    "class DriftStim(ddm.models.Drift):\n",
    "  name = \"Drift depends linearly on stimulus value\"\n",
    "  required_parameters = [\"driftstim\"] # Parameters we want to include in the model.\n",
    "  required_conditions = [\"stim\"] # The column in your sample data that modulates the parameters above.\n",
    "  def get_drift(self, conditions, **kwargs):\n",
    "    return self.driftstim * conditions[\"stim\"]\n",
    "\n",
    "# Define the model.\n",
    "model = Model(name=\"Time invariant drift modulated by average signal\",\n",
    "                 drift=DriftStim(driftstim=Fittable(minval=-1, maxval=4)),\n",
    "                 noise=NoiseConstant(noise=Fittable(minval=.001, maxval=2)),\n",
    "                 bound=BoundConstant(B=1),\n",
    "                 IC=ICPoint(x0=Fittable(minval=-.99, maxval=.99)),\n",
    "                 overlay=OverlayNonDecision(nondectime=Fittable(minval=0, maxval=.1)),\n",
    "                 dx=.01, dt=.01, T_dur=12,  # dx: spatial grid for evidence space (-B to B, in dx bins), dt: time step in s. See Shin et al 2022 Fig 4 for why I set dx=dt.\n",
    "                 choice_names=(\"Yes\",\"No\"))"
   ]
  },
  {
   "cell_type": "code",
   "execution_count": 9,
   "metadata": {},
   "outputs": [],
   "source": [
    "# Only run this if specified at the start. Otherwise, just load pre-saved weights.\n",
    "print(\"DDM: Time Invariant Drift\")\n",
    "\n",
    "# Iterate through subjects.\n",
    "subnums = np.sort(data.subject.unique())\n",
    "for subnum in subnums:\n",
    "\n",
    "    # Progress tracker.\n",
    "    print(\"============================================================================\")\n",
    "    print(\"Subject \" + str(subnum))\n",
    "\n",
    "    # Subset the data.\n",
    "    subdata = data[data[\"subject\"]==subnum]\n",
    "\n",
    "    # Create a sample object from our data. Sample objects are the standard input for pyDDM fitting functions.\n",
    "    ddm_data = Sample.from_pandas_dataframe(subdata, rt_column_name=\"rt\", choice_column_name=\"choice\", choice_names=(\"Yes\",\"No\"))\n",
    "\n",
    "    # Fit the model and show it off. Keep track of how long it took to estimate the parameters.\n",
    "    clock = TicToc() # Timer\n",
    "    clock.tic()\n",
    "    set_N_cpus(ncpu) # Parallelize\n",
    "    fit_model = fit_adjust_model(sample=ddm_data, model=model,\n",
    "                                    fitting_method=\"differential_evolution\",\n",
    "                                    lossfunction=LossRobustBIC,\n",
    "                                    verbose=verbose_fitting)\n",
    "    clock.toc(\"Fitting subject \" + str(subnum) + \" took\")\n",
    "    display_model(fit_model)\n",
    "\n",
    "    # Save\n",
    "    filename = tempdir + \"fit_model_ti_\" + str(subnum) + \".txt\"\n",
    "    with open(filename, \"w\") as f:\n",
    "      f.write(repr(fit_model))"
   ]
  },
  {
   "cell_type": "markdown",
   "metadata": {},
   "source": [
    "## Extract parameters and BIC for the model objects"
   ]
  },
  {
   "cell_type": "code",
   "execution_count": 10,
   "metadata": {},
   "outputs": [
    {
     "data": {
      "text/html": [
       "<div>\n",
       "<style scoped>\n",
       "    .dataframe tbody tr th:only-of-type {\n",
       "        vertical-align: middle;\n",
       "    }\n",
       "\n",
       "    .dataframe tbody tr th {\n",
       "        vertical-align: top;\n",
       "    }\n",
       "\n",
       "    .dataframe thead th {\n",
       "        text-align: right;\n",
       "    }\n",
       "</style>\n",
       "<table border=\"1\" class=\"dataframe\">\n",
       "  <thead>\n",
       "    <tr style=\"text-align: right;\">\n",
       "      <th></th>\n",
       "      <th>bic</th>\n",
       "      <th>drift</th>\n",
       "      <th>noise</th>\n",
       "      <th>bias</th>\n",
       "      <th>ndt</th>\n",
       "    </tr>\n",
       "  </thead>\n",
       "  <tbody>\n",
       "    <tr>\n",
       "      <th>0</th>\n",
       "      <td>443.576431</td>\n",
       "      <td>0.403546</td>\n",
       "      <td>0.368876</td>\n",
       "      <td>-0.278941</td>\n",
       "      <td>0.094668</td>\n",
       "    </tr>\n",
       "    <tr>\n",
       "      <th>1</th>\n",
       "      <td>875.981638</td>\n",
       "      <td>0.096721</td>\n",
       "      <td>0.194593</td>\n",
       "      <td>-0.066322</td>\n",
       "      <td>0.083425</td>\n",
       "    </tr>\n",
       "    <tr>\n",
       "      <th>2</th>\n",
       "      <td>550.617604</td>\n",
       "      <td>0.263634</td>\n",
       "      <td>0.274453</td>\n",
       "      <td>-0.224842</td>\n",
       "      <td>0.095580</td>\n",
       "    </tr>\n",
       "    <tr>\n",
       "      <th>3</th>\n",
       "      <td>698.004648</td>\n",
       "      <td>0.163944</td>\n",
       "      <td>0.192467</td>\n",
       "      <td>-0.096242</td>\n",
       "      <td>0.099018</td>\n",
       "    </tr>\n",
       "    <tr>\n",
       "      <th>4</th>\n",
       "      <td>780.101301</td>\n",
       "      <td>0.141472</td>\n",
       "      <td>0.239375</td>\n",
       "      <td>-0.083149</td>\n",
       "      <td>0.097455</td>\n",
       "    </tr>\n",
       "    <tr>\n",
       "      <th>5</th>\n",
       "      <td>506.062985</td>\n",
       "      <td>0.410498</td>\n",
       "      <td>0.876866</td>\n",
       "      <td>-0.269408</td>\n",
       "      <td>0.020913</td>\n",
       "    </tr>\n",
       "    <tr>\n",
       "      <th>6</th>\n",
       "      <td>1323.869324</td>\n",
       "      <td>0.094724</td>\n",
       "      <td>0.802427</td>\n",
       "      <td>0.435531</td>\n",
       "      <td>0.000836</td>\n",
       "    </tr>\n",
       "    <tr>\n",
       "      <th>7</th>\n",
       "      <td>477.307972</td>\n",
       "      <td>0.380505</td>\n",
       "      <td>0.686332</td>\n",
       "      <td>-0.126680</td>\n",
       "      <td>0.095847</td>\n",
       "    </tr>\n",
       "    <tr>\n",
       "      <th>8</th>\n",
       "      <td>527.372644</td>\n",
       "      <td>0.372288</td>\n",
       "      <td>0.563915</td>\n",
       "      <td>-0.045598</td>\n",
       "      <td>0.084873</td>\n",
       "    </tr>\n",
       "    <tr>\n",
       "      <th>9</th>\n",
       "      <td>283.728724</td>\n",
       "      <td>0.711251</td>\n",
       "      <td>0.882524</td>\n",
       "      <td>-0.224483</td>\n",
       "      <td>0.092215</td>\n",
       "    </tr>\n",
       "    <tr>\n",
       "      <th>10</th>\n",
       "      <td>449.244015</td>\n",
       "      <td>0.398684</td>\n",
       "      <td>0.377146</td>\n",
       "      <td>-0.221838</td>\n",
       "      <td>0.099669</td>\n",
       "    </tr>\n",
       "    <tr>\n",
       "      <th>11</th>\n",
       "      <td>445.149849</td>\n",
       "      <td>0.527458</td>\n",
       "      <td>0.716409</td>\n",
       "      <td>-0.126213</td>\n",
       "      <td>0.094105</td>\n",
       "    </tr>\n",
       "    <tr>\n",
       "      <th>12</th>\n",
       "      <td>543.149592</td>\n",
       "      <td>0.326555</td>\n",
       "      <td>0.482749</td>\n",
       "      <td>-0.204482</td>\n",
       "      <td>0.097097</td>\n",
       "    </tr>\n",
       "    <tr>\n",
       "      <th>13</th>\n",
       "      <td>278.633677</td>\n",
       "      <td>0.500633</td>\n",
       "      <td>0.464375</td>\n",
       "      <td>0.184867</td>\n",
       "      <td>0.093798</td>\n",
       "    </tr>\n",
       "    <tr>\n",
       "      <th>14</th>\n",
       "      <td>371.633050</td>\n",
       "      <td>0.527216</td>\n",
       "      <td>0.577546</td>\n",
       "      <td>-0.185123</td>\n",
       "      <td>0.093942</td>\n",
       "    </tr>\n",
       "    <tr>\n",
       "      <th>15</th>\n",
       "      <td>413.542183</td>\n",
       "      <td>0.442782</td>\n",
       "      <td>0.443406</td>\n",
       "      <td>-0.210781</td>\n",
       "      <td>0.093052</td>\n",
       "    </tr>\n",
       "    <tr>\n",
       "      <th>16</th>\n",
       "      <td>325.147032</td>\n",
       "      <td>0.575332</td>\n",
       "      <td>0.509449</td>\n",
       "      <td>-0.242682</td>\n",
       "      <td>0.090275</td>\n",
       "    </tr>\n",
       "    <tr>\n",
       "      <th>17</th>\n",
       "      <td>485.367050</td>\n",
       "      <td>0.417310</td>\n",
       "      <td>0.491472</td>\n",
       "      <td>-0.035535</td>\n",
       "      <td>0.095607</td>\n",
       "    </tr>\n",
       "    <tr>\n",
       "      <th>18</th>\n",
       "      <td>681.453095</td>\n",
       "      <td>0.179195</td>\n",
       "      <td>0.277174</td>\n",
       "      <td>-0.321793</td>\n",
       "      <td>0.098201</td>\n",
       "    </tr>\n",
       "    <tr>\n",
       "      <th>19</th>\n",
       "      <td>215.394457</td>\n",
       "      <td>0.675111</td>\n",
       "      <td>1.088960</td>\n",
       "      <td>-0.236287</td>\n",
       "      <td>0.098189</td>\n",
       "    </tr>\n",
       "    <tr>\n",
       "      <th>20</th>\n",
       "      <td>694.161512</td>\n",
       "      <td>0.204107</td>\n",
       "      <td>0.320840</td>\n",
       "      <td>0.086849</td>\n",
       "      <td>0.074518</td>\n",
       "    </tr>\n",
       "    <tr>\n",
       "      <th>21</th>\n",
       "      <td>496.614927</td>\n",
       "      <td>0.326666</td>\n",
       "      <td>0.350436</td>\n",
       "      <td>-0.203702</td>\n",
       "      <td>0.093763</td>\n",
       "    </tr>\n",
       "    <tr>\n",
       "      <th>22</th>\n",
       "      <td>540.362789</td>\n",
       "      <td>0.296376</td>\n",
       "      <td>0.334997</td>\n",
       "      <td>-0.170406</td>\n",
       "      <td>0.094721</td>\n",
       "    </tr>\n",
       "    <tr>\n",
       "      <th>23</th>\n",
       "      <td>526.988491</td>\n",
       "      <td>0.323685</td>\n",
       "      <td>0.356544</td>\n",
       "      <td>-0.206037</td>\n",
       "      <td>0.090287</td>\n",
       "    </tr>\n",
       "    <tr>\n",
       "      <th>24</th>\n",
       "      <td>513.256894</td>\n",
       "      <td>0.320456</td>\n",
       "      <td>0.510935</td>\n",
       "      <td>-0.336637</td>\n",
       "      <td>0.097051</td>\n",
       "    </tr>\n",
       "  </tbody>\n",
       "</table>\n",
       "</div>"
      ],
      "text/plain": [
       "            bic     drift     noise      bias       ndt\n",
       "0    443.576431  0.403546  0.368876 -0.278941  0.094668\n",
       "1    875.981638  0.096721  0.194593 -0.066322  0.083425\n",
       "2    550.617604  0.263634  0.274453 -0.224842  0.095580\n",
       "3    698.004648  0.163944  0.192467 -0.096242  0.099018\n",
       "4    780.101301  0.141472  0.239375 -0.083149  0.097455\n",
       "5    506.062985  0.410498  0.876866 -0.269408  0.020913\n",
       "6   1323.869324  0.094724  0.802427  0.435531  0.000836\n",
       "7    477.307972  0.380505  0.686332 -0.126680  0.095847\n",
       "8    527.372644  0.372288  0.563915 -0.045598  0.084873\n",
       "9    283.728724  0.711251  0.882524 -0.224483  0.092215\n",
       "10   449.244015  0.398684  0.377146 -0.221838  0.099669\n",
       "11   445.149849  0.527458  0.716409 -0.126213  0.094105\n",
       "12   543.149592  0.326555  0.482749 -0.204482  0.097097\n",
       "13   278.633677  0.500633  0.464375  0.184867  0.093798\n",
       "14   371.633050  0.527216  0.577546 -0.185123  0.093942\n",
       "15   413.542183  0.442782  0.443406 -0.210781  0.093052\n",
       "16   325.147032  0.575332  0.509449 -0.242682  0.090275\n",
       "17   485.367050  0.417310  0.491472 -0.035535  0.095607\n",
       "18   681.453095  0.179195  0.277174 -0.321793  0.098201\n",
       "19   215.394457  0.675111  1.088960 -0.236287  0.098189\n",
       "20   694.161512  0.204107  0.320840  0.086849  0.074518\n",
       "21   496.614927  0.326666  0.350436 -0.203702  0.093763\n",
       "22   540.362789  0.296376  0.334997 -0.170406  0.094721\n",
       "23   526.988491  0.323685  0.356544 -0.206037  0.090287\n",
       "24   513.256894  0.320456  0.510935 -0.336637  0.097051"
      ]
     },
     "execution_count": 10,
     "metadata": {},
     "output_type": "execute_result"
    }
   ],
   "source": [
    "# Placeholders\n",
    "model_bic = []\n",
    "model_drift = []\n",
    "model_noise = []\n",
    "model_bias = []\n",
    "model_ndt = []\n",
    "\n",
    "# Iterate through subjects.\n",
    "subnums = np.sort(data.subject.unique())\n",
    "for subnum in subnums:\n",
    "    \n",
    "    # Load\n",
    "    filename = tempdir + \"fit_model_ti_\" + str(subnum) + \".txt\"\n",
    "    with open(filename, \"r\") as f:\n",
    "        model_loaded = eval(f.read())\n",
    "\n",
    "    # Negative Log Likelihood.\n",
    "    model_bic.append(model_loaded.get_fit_result().value())\n",
    "    \n",
    "    # Fitted parameters.\n",
    "    model_drift.append(model_loaded.parameters()['drift']['driftstim'])\n",
    "    model_noise.append(model_loaded.parameters()['noise']['noise'])\n",
    "    model_bias.append(model_loaded.parameters()['IC']['x0'])\n",
    "    model_ndt.append(model_loaded.parameters()['overlay']['nondectime'])\n",
    "    \n",
    "d = {'bic':model_bic, \"drift\":model_drift, \"noise\":model_noise, \"bias\":model_bias, \"ndt\":model_ndt}\n",
    "indiv_model = pd.DataFrame(data=d)\n",
    "indiv_model"
   ]
  },
  {
   "cell_type": "markdown",
   "metadata": {},
   "source": [
    "## Means of BIC and Estimates\n",
    "\n",
    "Confidence intervals assume normal distribution."
   ]
  },
  {
   "cell_type": "code",
   "execution_count": 11,
   "metadata": {},
   "outputs": [
    {
     "data": {
      "text/html": [
       "<div>\n",
       "<style scoped>\n",
       "    .dataframe tbody tr th:only-of-type {\n",
       "        vertical-align: middle;\n",
       "    }\n",
       "\n",
       "    .dataframe tbody tr th {\n",
       "        vertical-align: top;\n",
       "    }\n",
       "\n",
       "    .dataframe thead th {\n",
       "        text-align: right;\n",
       "    }\n",
       "</style>\n",
       "<table border=\"1\" class=\"dataframe\">\n",
       "  <thead>\n",
       "    <tr style=\"text-align: right;\">\n",
       "      <th></th>\n",
       "      <th>bic</th>\n",
       "      <th>drift</th>\n",
       "      <th>noise</th>\n",
       "      <th>bias</th>\n",
       "      <th>ndt</th>\n",
       "    </tr>\n",
       "  </thead>\n",
       "  <tbody>\n",
       "    <tr>\n",
       "      <th>mean</th>\n",
       "      <td>537.868875</td>\n",
       "      <td>0.363206</td>\n",
       "      <td>0.495371</td>\n",
       "      <td>-0.136397</td>\n",
       "      <td>0.086764</td>\n",
       "    </tr>\n",
       "    <tr>\n",
       "      <th>se</th>\n",
       "      <td>45.113070</td>\n",
       "      <td>0.033230</td>\n",
       "      <td>0.046792</td>\n",
       "      <td>0.033858</td>\n",
       "      <td>0.004735</td>\n",
       "    </tr>\n",
       "    <tr>\n",
       "      <th>ci_lower</th>\n",
       "      <td>449.447258</td>\n",
       "      <td>0.298075</td>\n",
       "      <td>0.403658</td>\n",
       "      <td>-0.202760</td>\n",
       "      <td>0.077484</td>\n",
       "    </tr>\n",
       "    <tr>\n",
       "      <th>ci_upper</th>\n",
       "      <td>626.290492</td>\n",
       "      <td>0.428336</td>\n",
       "      <td>0.587084</td>\n",
       "      <td>-0.070035</td>\n",
       "      <td>0.096045</td>\n",
       "    </tr>\n",
       "  </tbody>\n",
       "</table>\n",
       "</div>"
      ],
      "text/plain": [
       "                 bic     drift     noise      bias       ndt\n",
       "mean      537.868875  0.363206  0.495371 -0.136397  0.086764\n",
       "se         45.113070  0.033230  0.046792  0.033858  0.004735\n",
       "ci_lower  449.447258  0.298075  0.403658 -0.202760  0.077484\n",
       "ci_upper  626.290492  0.428336  0.587084 -0.070035  0.096045"
      ]
     },
     "execution_count": 11,
     "metadata": {},
     "output_type": "execute_result"
    }
   ],
   "source": [
    "summstats_model = pd.DataFrame(data={\"mean\":indiv_model.mean(), \n",
    "                                        \"se\":indiv_model.sem(),\n",
    "                                        \"ci_lower\":indiv_model.mean()-1.96*indiv_model.sem(),\n",
    "                                        \"ci_upper\":indiv_model.mean()+1.96*indiv_model.sem()}).T\n",
    "summstats_model"
   ]
  },
  {
   "cell_type": "markdown",
   "metadata": {},
   "source": [
    "## Save"
   ]
  },
  {
   "cell_type": "code",
   "execution_count": 12,
   "metadata": {},
   "outputs": [],
   "source": [
    "table_model = pd.concat([indiv_model, summstats_model])\n",
    "filename = tempdir + \"table_model_ti.txt\"\n",
    "with open(filename, \"w\") as f:\n",
    "  f.write(repr(table_model))"
   ]
  }
 ],
 "metadata": {
  "colab": {
   "provenance": []
  },
  "kernelspec": {
   "display_name": "Python 3 (ipykernel)",
   "language": "python",
   "name": "python3"
  },
  "language_info": {
   "codemirror_mode": {
    "name": "ipython",
    "version": 3
   },
   "file_extension": ".py",
   "mimetype": "text/x-python",
   "name": "python",
   "nbconvert_exporter": "python",
   "pygments_lexer": "ipython3",
   "version": "3.9.6"
  }
 },
 "nbformat": 4,
 "nbformat_minor": 4
}
